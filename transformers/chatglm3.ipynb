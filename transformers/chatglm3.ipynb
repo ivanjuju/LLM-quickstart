{
 "cells": [
  {
   "cell_type": "code",
   "execution_count": 2,
   "id": "323b27c1-0380-4f0e-baca-247a4ad130a4",
   "metadata": {
    "scrolled": true
   },
   "outputs": [
    {
     "name": "stdout",
     "output_type": "stream",
     "text": [
      "\u001b[33mDEPRECATION: Loading egg at /home/ivanzhu/tools/miniconda3/lib/python3.11/site-packages/huggingface_hub-0.19.4-py3.8.egg is deprecated. pip 24.3 will enforce this behaviour change. A possible replacement is to use pip for package installation.. Discussion can be found at https://github.com/pypa/pip/issues/12330\u001b[0m\u001b[33m\n",
      "\u001b[0mRequirement already satisfied: protobuf in /home/ivanzhu/tools/miniconda3/lib/python3.11/site-packages (4.25.1)\n",
      "Requirement already satisfied: transformers==4.30.2 in /home/ivanzhu/tools/miniconda3/lib/python3.11/site-packages (4.30.2)\n",
      "Requirement already satisfied: cpm_kernels in /home/ivanzhu/tools/miniconda3/lib/python3.11/site-packages (1.0.11)\n",
      "Requirement already satisfied: gradio in /home/ivanzhu/tools/miniconda3/lib/python3.11/site-packages (4.11.0)\n",
      "Requirement already satisfied: mdtex2html in /home/ivanzhu/tools/miniconda3/lib/python3.11/site-packages (1.2.0)\n",
      "Requirement already satisfied: sentencepiece in /home/ivanzhu/tools/miniconda3/lib/python3.11/site-packages (0.1.99)\n",
      "Requirement already satisfied: accelerate in /home/ivanzhu/tools/miniconda3/lib/python3.11/site-packages (0.25.0)\n",
      "Requirement already satisfied: filelock in /home/ivanzhu/tools/miniconda3/lib/python3.11/site-packages (from transformers==4.30.2) (3.13.1)\n",
      "Requirement already satisfied: huggingface-hub<1.0,>=0.14.1 in /home/ivanzhu/tools/miniconda3/lib/python3.11/site-packages/huggingface_hub-0.19.4-py3.8.egg (from transformers==4.30.2) (0.19.4)\n",
      "Requirement already satisfied: numpy>=1.17 in /home/ivanzhu/tools/miniconda3/lib/python3.11/site-packages (from transformers==4.30.2) (1.26.2)\n",
      "Requirement already satisfied: packaging>=20.0 in /home/ivanzhu/tools/miniconda3/lib/python3.11/site-packages (from transformers==4.30.2) (23.1)\n",
      "Requirement already satisfied: pyyaml>=5.1 in /home/ivanzhu/tools/miniconda3/lib/python3.11/site-packages (from transformers==4.30.2) (6.0.1)\n",
      "Requirement already satisfied: regex!=2019.12.17 in /home/ivanzhu/tools/miniconda3/lib/python3.11/site-packages (from transformers==4.30.2) (2023.10.3)\n",
      "Requirement already satisfied: requests in /home/ivanzhu/tools/miniconda3/lib/python3.11/site-packages (from transformers==4.30.2) (2.31.0)\n",
      "Requirement already satisfied: tokenizers!=0.11.3,<0.14,>=0.11.1 in /home/ivanzhu/tools/miniconda3/lib/python3.11/site-packages (from transformers==4.30.2) (0.13.3)\n",
      "Requirement already satisfied: safetensors>=0.3.1 in /home/ivanzhu/tools/miniconda3/lib/python3.11/site-packages (from transformers==4.30.2) (0.4.0)\n",
      "Requirement already satisfied: tqdm>=4.27 in /home/ivanzhu/tools/miniconda3/lib/python3.11/site-packages (from transformers==4.30.2) (4.65.0)\n",
      "Requirement already satisfied: aiofiles<24.0,>=22.0 in /home/ivanzhu/tools/miniconda3/lib/python3.11/site-packages (from gradio) (23.2.1)\n",
      "Requirement already satisfied: altair<6.0,>=4.2.0 in /home/ivanzhu/tools/miniconda3/lib/python3.11/site-packages (from gradio) (5.2.0)\n",
      "Requirement already satisfied: fastapi in /home/ivanzhu/tools/miniconda3/lib/python3.11/site-packages (from gradio) (0.105.0)\n",
      "Requirement already satisfied: ffmpy in /home/ivanzhu/tools/miniconda3/lib/python3.11/site-packages (from gradio) (0.3.1)\n",
      "Requirement already satisfied: gradio-client==0.7.3 in /home/ivanzhu/tools/miniconda3/lib/python3.11/site-packages (from gradio) (0.7.3)\n",
      "Requirement already satisfied: httpx in /home/ivanzhu/tools/miniconda3/lib/python3.11/site-packages (from gradio) (0.26.0)\n",
      "Requirement already satisfied: importlib-resources<7.0,>=1.3 in /home/ivanzhu/tools/miniconda3/lib/python3.11/site-packages (from gradio) (6.1.1)\n",
      "Requirement already satisfied: jinja2<4.0 in /home/ivanzhu/tools/miniconda3/lib/python3.11/site-packages (from gradio) (3.1.2)\n",
      "Requirement already satisfied: markupsafe~=2.0 in /home/ivanzhu/tools/miniconda3/lib/python3.11/site-packages (from gradio) (2.1.3)\n",
      "Requirement already satisfied: matplotlib~=3.0 in /home/ivanzhu/tools/miniconda3/lib/python3.11/site-packages (from gradio) (3.8.2)\n",
      "Requirement already satisfied: orjson~=3.0 in /home/ivanzhu/tools/miniconda3/lib/python3.11/site-packages (from gradio) (3.9.10)\n",
      "Requirement already satisfied: pandas<3.0,>=1.0 in /home/ivanzhu/tools/miniconda3/lib/python3.11/site-packages (from gradio) (2.1.4)\n",
      "Requirement already satisfied: pillow<11.0,>=8.0 in /home/ivanzhu/tools/miniconda3/lib/python3.11/site-packages (from gradio) (10.1.0)\n",
      "Requirement already satisfied: pydantic>=2.0 in /home/ivanzhu/tools/miniconda3/lib/python3.11/site-packages (from gradio) (2.5.2)\n",
      "Requirement already satisfied: pydub in /home/ivanzhu/tools/miniconda3/lib/python3.11/site-packages (from gradio) (0.25.1)\n",
      "Requirement already satisfied: python-multipart in /home/ivanzhu/tools/miniconda3/lib/python3.11/site-packages (from gradio) (0.0.6)\n",
      "Requirement already satisfied: semantic-version~=2.0 in /home/ivanzhu/tools/miniconda3/lib/python3.11/site-packages (from gradio) (2.10.0)\n",
      "Requirement already satisfied: tomlkit==0.12.0 in /home/ivanzhu/tools/miniconda3/lib/python3.11/site-packages (from gradio) (0.12.0)\n",
      "Requirement already satisfied: typer<1.0,>=0.9 in /home/ivanzhu/tools/miniconda3/lib/python3.11/site-packages (from typer[all]<1.0,>=0.9->gradio) (0.9.0)\n",
      "Requirement already satisfied: typing-extensions~=4.0 in /home/ivanzhu/tools/miniconda3/lib/python3.11/site-packages (from gradio) (4.9.0)\n",
      "Requirement already satisfied: uvicorn>=0.14.0 in /home/ivanzhu/tools/miniconda3/lib/python3.11/site-packages (from gradio) (0.24.0.post1)\n",
      "Requirement already satisfied: fsspec in /home/ivanzhu/tools/miniconda3/lib/python3.11/site-packages (from gradio-client==0.7.3->gradio) (2023.10.0)\n",
      "Requirement already satisfied: websockets<12.0,>=10.0 in /home/ivanzhu/tools/miniconda3/lib/python3.11/site-packages (from gradio-client==0.7.3->gradio) (11.0.3)\n",
      "Requirement already satisfied: markdown in /home/ivanzhu/tools/miniconda3/lib/python3.11/site-packages (from mdtex2html) (3.5.1)\n",
      "Requirement already satisfied: latex2mathml in /home/ivanzhu/tools/miniconda3/lib/python3.11/site-packages (from mdtex2html) (3.77.0)\n",
      "Requirement already satisfied: psutil in /home/ivanzhu/tools/miniconda3/lib/python3.11/site-packages (from accelerate) (5.9.5)\n",
      "Requirement already satisfied: torch>=1.10.0 in /home/ivanzhu/tools/miniconda3/lib/python3.11/site-packages (from accelerate) (2.1.2)\n",
      "Requirement already satisfied: jsonschema>=3.0 in /home/ivanzhu/tools/miniconda3/lib/python3.11/site-packages (from altair<6.0,>=4.2.0->gradio) (4.20.0)\n",
      "Requirement already satisfied: toolz in /home/ivanzhu/tools/miniconda3/lib/python3.11/site-packages (from altair<6.0,>=4.2.0->gradio) (0.12.0)\n",
      "Requirement already satisfied: contourpy>=1.0.1 in /home/ivanzhu/tools/miniconda3/lib/python3.11/site-packages (from matplotlib~=3.0->gradio) (1.2.0)\n",
      "Requirement already satisfied: cycler>=0.10 in /home/ivanzhu/tools/miniconda3/lib/python3.11/site-packages (from matplotlib~=3.0->gradio) (0.12.1)\n",
      "Requirement already satisfied: fonttools>=4.22.0 in /home/ivanzhu/tools/miniconda3/lib/python3.11/site-packages (from matplotlib~=3.0->gradio) (4.47.0)\n",
      "Requirement already satisfied: kiwisolver>=1.3.1 in /home/ivanzhu/tools/miniconda3/lib/python3.11/site-packages (from matplotlib~=3.0->gradio) (1.4.5)\n",
      "Requirement already satisfied: pyparsing>=2.3.1 in /home/ivanzhu/tools/miniconda3/lib/python3.11/site-packages (from matplotlib~=3.0->gradio) (3.1.1)\n",
      "Requirement already satisfied: python-dateutil>=2.7 in /home/ivanzhu/tools/miniconda3/lib/python3.11/site-packages (from matplotlib~=3.0->gradio) (2.8.2)\n",
      "Requirement already satisfied: pytz>=2020.1 in /home/ivanzhu/tools/miniconda3/lib/python3.11/site-packages (from pandas<3.0,>=1.0->gradio) (2023.3.post1)\n",
      "Requirement already satisfied: tzdata>=2022.1 in /home/ivanzhu/tools/miniconda3/lib/python3.11/site-packages (from pandas<3.0,>=1.0->gradio) (2023.3)\n",
      "Requirement already satisfied: annotated-types>=0.4.0 in /home/ivanzhu/tools/miniconda3/lib/python3.11/site-packages (from pydantic>=2.0->gradio) (0.6.0)\n",
      "Requirement already satisfied: pydantic-core==2.14.5 in /home/ivanzhu/tools/miniconda3/lib/python3.11/site-packages (from pydantic>=2.0->gradio) (2.14.5)\n",
      "Requirement already satisfied: sympy in /home/ivanzhu/tools/miniconda3/lib/python3.11/site-packages (from torch>=1.10.0->accelerate) (1.12)\n",
      "Requirement already satisfied: networkx in /home/ivanzhu/tools/miniconda3/lib/python3.11/site-packages (from torch>=1.10.0->accelerate) (3.2.1)\n",
      "Requirement already satisfied: nvidia-cuda-nvrtc-cu12==12.1.105 in /home/ivanzhu/tools/miniconda3/lib/python3.11/site-packages (from torch>=1.10.0->accelerate) (12.1.105)\n",
      "Requirement already satisfied: nvidia-cuda-runtime-cu12==12.1.105 in /home/ivanzhu/tools/miniconda3/lib/python3.11/site-packages (from torch>=1.10.0->accelerate) (12.1.105)\n",
      "Requirement already satisfied: nvidia-cuda-cupti-cu12==12.1.105 in /home/ivanzhu/tools/miniconda3/lib/python3.11/site-packages (from torch>=1.10.0->accelerate) (12.1.105)\n",
      "Requirement already satisfied: nvidia-cudnn-cu12==8.9.2.26 in /home/ivanzhu/tools/miniconda3/lib/python3.11/site-packages (from torch>=1.10.0->accelerate) (8.9.2.26)\n",
      "Requirement already satisfied: nvidia-cublas-cu12==12.1.3.1 in /home/ivanzhu/tools/miniconda3/lib/python3.11/site-packages (from torch>=1.10.0->accelerate) (12.1.3.1)\n",
      "Requirement already satisfied: nvidia-cufft-cu12==11.0.2.54 in /home/ivanzhu/tools/miniconda3/lib/python3.11/site-packages (from torch>=1.10.0->accelerate) (11.0.2.54)\n",
      "Requirement already satisfied: nvidia-curand-cu12==10.3.2.106 in /home/ivanzhu/tools/miniconda3/lib/python3.11/site-packages (from torch>=1.10.0->accelerate) (10.3.2.106)\n",
      "Requirement already satisfied: nvidia-cusolver-cu12==11.4.5.107 in /home/ivanzhu/tools/miniconda3/lib/python3.11/site-packages (from torch>=1.10.0->accelerate) (11.4.5.107)\n",
      "Requirement already satisfied: nvidia-cusparse-cu12==12.1.0.106 in /home/ivanzhu/tools/miniconda3/lib/python3.11/site-packages (from torch>=1.10.0->accelerate) (12.1.0.106)\n",
      "Requirement already satisfied: nvidia-nccl-cu12==2.18.1 in /home/ivanzhu/tools/miniconda3/lib/python3.11/site-packages (from torch>=1.10.0->accelerate) (2.18.1)\n",
      "Requirement already satisfied: nvidia-nvtx-cu12==12.1.105 in /home/ivanzhu/tools/miniconda3/lib/python3.11/site-packages (from torch>=1.10.0->accelerate) (12.1.105)\n",
      "Requirement already satisfied: triton==2.1.0 in /home/ivanzhu/tools/miniconda3/lib/python3.11/site-packages (from torch>=1.10.0->accelerate) (2.1.0)\n",
      "Requirement already satisfied: nvidia-nvjitlink-cu12 in /home/ivanzhu/tools/miniconda3/lib/python3.11/site-packages (from nvidia-cusolver-cu12==11.4.5.107->torch>=1.10.0->accelerate) (12.3.101)\n",
      "Requirement already satisfied: click<9.0.0,>=7.1.1 in /home/ivanzhu/tools/miniconda3/lib/python3.11/site-packages (from typer<1.0,>=0.9->typer[all]<1.0,>=0.9->gradio) (8.1.7)\n",
      "Requirement already satisfied: colorama<0.5.0,>=0.4.3 in /home/ivanzhu/tools/miniconda3/lib/python3.11/site-packages (from typer[all]<1.0,>=0.9->gradio) (0.4.6)\n",
      "Requirement already satisfied: shellingham<2.0.0,>=1.3.0 in /home/ivanzhu/tools/miniconda3/lib/python3.11/site-packages (from typer[all]<1.0,>=0.9->gradio) (1.5.4)\n",
      "Requirement already satisfied: rich<14.0.0,>=10.11.0 in /home/ivanzhu/tools/miniconda3/lib/python3.11/site-packages (from typer[all]<1.0,>=0.9->gradio) (13.7.0)\n",
      "Requirement already satisfied: h11>=0.8 in /home/ivanzhu/tools/miniconda3/lib/python3.11/site-packages (from uvicorn>=0.14.0->gradio) (0.14.0)\n",
      "Requirement already satisfied: anyio<4.0.0,>=3.7.1 in /home/ivanzhu/tools/miniconda3/lib/python3.11/site-packages (from fastapi->gradio) (3.7.1)\n",
      "Requirement already satisfied: starlette<0.28.0,>=0.27.0 in /home/ivanzhu/tools/miniconda3/lib/python3.11/site-packages (from fastapi->gradio) (0.27.0)\n",
      "Requirement already satisfied: certifi in /home/ivanzhu/tools/miniconda3/lib/python3.11/site-packages (from httpx->gradio) (2023.11.17)\n",
      "Requirement already satisfied: httpcore==1.* in /home/ivanzhu/tools/miniconda3/lib/python3.11/site-packages (from httpx->gradio) (1.0.2)\n",
      "Requirement already satisfied: idna in /home/ivanzhu/tools/miniconda3/lib/python3.11/site-packages (from httpx->gradio) (3.4)\n",
      "Requirement already satisfied: sniffio in /home/ivanzhu/tools/miniconda3/lib/python3.11/site-packages (from httpx->gradio) (1.3.0)\n",
      "Requirement already satisfied: charset-normalizer<4,>=2 in /home/ivanzhu/tools/miniconda3/lib/python3.11/site-packages (from requests->transformers==4.30.2) (2.0.4)\n",
      "Requirement already satisfied: urllib3<3,>=1.21.1 in /home/ivanzhu/tools/miniconda3/lib/python3.11/site-packages (from requests->transformers==4.30.2) (1.26.18)\n",
      "Requirement already satisfied: attrs>=22.2.0 in /home/ivanzhu/tools/miniconda3/lib/python3.11/site-packages (from jsonschema>=3.0->altair<6.0,>=4.2.0->gradio) (23.1.0)\n",
      "Requirement already satisfied: jsonschema-specifications>=2023.03.6 in /home/ivanzhu/tools/miniconda3/lib/python3.11/site-packages (from jsonschema>=3.0->altair<6.0,>=4.2.0->gradio) (2023.11.2)\n",
      "Requirement already satisfied: referencing>=0.28.4 in /home/ivanzhu/tools/miniconda3/lib/python3.11/site-packages (from jsonschema>=3.0->altair<6.0,>=4.2.0->gradio) (0.32.0)\n",
      "Requirement already satisfied: rpds-py>=0.7.1 in /home/ivanzhu/tools/miniconda3/lib/python3.11/site-packages (from jsonschema>=3.0->altair<6.0,>=4.2.0->gradio) (0.13.2)\n",
      "Requirement already satisfied: six>=1.5 in /home/ivanzhu/tools/miniconda3/lib/python3.11/site-packages (from python-dateutil>=2.7->matplotlib~=3.0->gradio) (1.16.0)\n",
      "Requirement already satisfied: markdown-it-py>=2.2.0 in /home/ivanzhu/tools/miniconda3/lib/python3.11/site-packages (from rich<14.0.0,>=10.11.0->typer[all]<1.0,>=0.9->gradio) (3.0.0)\n",
      "Requirement already satisfied: pygments<3.0.0,>=2.13.0 in /home/ivanzhu/tools/miniconda3/lib/python3.11/site-packages (from rich<14.0.0,>=10.11.0->typer[all]<1.0,>=0.9->gradio) (2.17.2)\n",
      "Requirement already satisfied: mpmath>=0.19 in /home/ivanzhu/tools/miniconda3/lib/python3.11/site-packages (from sympy->torch>=1.10.0->accelerate) (1.3.0)\n",
      "Requirement already satisfied: mdurl~=0.1 in /home/ivanzhu/tools/miniconda3/lib/python3.11/site-packages (from markdown-it-py>=2.2.0->rich<14.0.0,>=10.11.0->typer[all]<1.0,>=0.9->gradio) (0.1.2)\n",
      "\u001b[33mDEPRECATION: Loading egg at /home/ivanzhu/tools/miniconda3/lib/python3.11/site-packages/huggingface_hub-0.19.4-py3.8.egg is deprecated. pip 24.3 will enforce this behaviour change. A possible replacement is to use pip for package installation.. Discussion can be found at https://github.com/pypa/pip/issues/12330\u001b[0m\u001b[33m\n",
      "\u001b[0mRequirement already satisfied: torch in /home/ivanzhu/tools/miniconda3/lib/python3.11/site-packages (2.1.2)\n",
      "Requirement already satisfied: filelock in /home/ivanzhu/tools/miniconda3/lib/python3.11/site-packages (from torch) (3.13.1)\n",
      "Requirement already satisfied: typing-extensions in /home/ivanzhu/tools/miniconda3/lib/python3.11/site-packages (from torch) (4.9.0)\n",
      "Requirement already satisfied: sympy in /home/ivanzhu/tools/miniconda3/lib/python3.11/site-packages (from torch) (1.12)\n",
      "Requirement already satisfied: networkx in /home/ivanzhu/tools/miniconda3/lib/python3.11/site-packages (from torch) (3.2.1)\n",
      "Requirement already satisfied: jinja2 in /home/ivanzhu/tools/miniconda3/lib/python3.11/site-packages (from torch) (3.1.2)\n",
      "Requirement already satisfied: fsspec in /home/ivanzhu/tools/miniconda3/lib/python3.11/site-packages (from torch) (2023.10.0)\n",
      "Requirement already satisfied: nvidia-cuda-nvrtc-cu12==12.1.105 in /home/ivanzhu/tools/miniconda3/lib/python3.11/site-packages (from torch) (12.1.105)\n",
      "Requirement already satisfied: nvidia-cuda-runtime-cu12==12.1.105 in /home/ivanzhu/tools/miniconda3/lib/python3.11/site-packages (from torch) (12.1.105)\n",
      "Requirement already satisfied: nvidia-cuda-cupti-cu12==12.1.105 in /home/ivanzhu/tools/miniconda3/lib/python3.11/site-packages (from torch) (12.1.105)\n",
      "Requirement already satisfied: nvidia-cudnn-cu12==8.9.2.26 in /home/ivanzhu/tools/miniconda3/lib/python3.11/site-packages (from torch) (8.9.2.26)\n",
      "Requirement already satisfied: nvidia-cublas-cu12==12.1.3.1 in /home/ivanzhu/tools/miniconda3/lib/python3.11/site-packages (from torch) (12.1.3.1)\n",
      "Requirement already satisfied: nvidia-cufft-cu12==11.0.2.54 in /home/ivanzhu/tools/miniconda3/lib/python3.11/site-packages (from torch) (11.0.2.54)\n",
      "Requirement already satisfied: nvidia-curand-cu12==10.3.2.106 in /home/ivanzhu/tools/miniconda3/lib/python3.11/site-packages (from torch) (10.3.2.106)\n",
      "Requirement already satisfied: nvidia-cusolver-cu12==11.4.5.107 in /home/ivanzhu/tools/miniconda3/lib/python3.11/site-packages (from torch) (11.4.5.107)\n",
      "Requirement already satisfied: nvidia-cusparse-cu12==12.1.0.106 in /home/ivanzhu/tools/miniconda3/lib/python3.11/site-packages (from torch) (12.1.0.106)\n",
      "Requirement already satisfied: nvidia-nccl-cu12==2.18.1 in /home/ivanzhu/tools/miniconda3/lib/python3.11/site-packages (from torch) (2.18.1)\n",
      "Requirement already satisfied: nvidia-nvtx-cu12==12.1.105 in /home/ivanzhu/tools/miniconda3/lib/python3.11/site-packages (from torch) (12.1.105)\n",
      "Requirement already satisfied: triton==2.1.0 in /home/ivanzhu/tools/miniconda3/lib/python3.11/site-packages (from torch) (2.1.0)\n",
      "Requirement already satisfied: nvidia-nvjitlink-cu12 in /home/ivanzhu/tools/miniconda3/lib/python3.11/site-packages (from nvidia-cusolver-cu12==11.4.5.107->torch) (12.3.101)\n",
      "Requirement already satisfied: MarkupSafe>=2.0 in /home/ivanzhu/tools/miniconda3/lib/python3.11/site-packages (from jinja2->torch) (2.1.3)\n",
      "Requirement already satisfied: mpmath>=0.19 in /home/ivanzhu/tools/miniconda3/lib/python3.11/site-packages (from sympy->torch) (1.3.0)\n"
     ]
    }
   ],
   "source": [
    "!pip install protobuf transformers==4.30.2 cpm_kernels gradio mdtex2html sentencepiece accelerate\n",
    "!pip install -U torch"
   ]
  },
  {
   "cell_type": "code",
   "execution_count": 1,
   "id": "90dcc2cd-8960-4982-8565-5c0f82dd7889",
   "metadata": {},
   "outputs": [
    {
     "name": "stderr",
     "output_type": "stream",
     "text": [
      "/home/ivanzhu/tools/miniconda3/lib/python3.11/site-packages/tqdm/auto.py:21: TqdmWarning: IProgress not found. Please update jupyter and ipywidgets. See https://ipywidgets.readthedocs.io/en/stable/user_install.html\n",
      "  from .autonotebook import tqdm as notebook_tqdm\n",
      "Loading checkpoint shards: 100%|██████████| 7/7 [00:08<00:00,  1.16s/it]\n"
     ]
    }
   ],
   "source": [
    "from transformers import AutoTokenizer, AutoModel\n",
    "tokenizer = AutoTokenizer.from_pretrained(\"THUDM/chatglm3-6b\", trust_remote_code=True)\n",
    "model = AutoModel.from_pretrained(\"THUDM/chatglm3-6b\", trust_remote_code=True).cuda()"
   ]
  },
  {
   "cell_type": "code",
   "execution_count": 3,
   "id": "8471cf60-7ddb-46e2-9701-93b8db6e63e7",
   "metadata": {},
   "outputs": [
    {
     "name": "stdout",
     "output_type": "stream",
     "text": [
      "你好👋！我是人工智能助手 ChatGLM3-6B，很高兴见到你，欢迎问我任何问题。\n",
      "（2.88s）\n",
      "晚上睡不着时，你可以尝试以下方法：\n",
      "\n",
      "1. 保持冷静：尽量放松，不要焦虑，相信自己能够入睡。\n",
      "\n",
      "2. 改变环境：关掉灯光，调低温度，选择一个安静、舒适的环境。\n",
      "\n",
      "3. 调整姿势：尝试不同的睡姿，找到适合自己的舒适姿势。\n",
      "\n",
      "4. 控制呼吸：深呼吸可以帮助你放松，尝试缓慢呼吸，吸气时让腹部膨胀，呼气时让腹部收缩。\n",
      "\n",
      "5. 重复一个放松的句子：例如“我已经困了”，不断重复这个句子，有助于放松心情。\n",
      "\n",
      "6.  avoid screens for at least an hour before bedtime：睡前至少一小时避免使用屏幕，避免蓝光影响你的睡眠。\n",
      "\n",
      "7. 尝试冥想：冥想可以帮助放松，减少压力和焦虑。\n",
      "\n",
      "8. 喝一杯热牛奶或茶：热牛奶和茶可以帮助放松，更容易入睡。\n",
      "\n",
      "如果这些方法都不管用的话，你可以考虑咨询医生或专业心理咨询师，获取更多的帮助。\n",
      "（11.24s）\n"
     ]
    }
   ],
   "source": [
    "import time\n",
    "\n",
    "model = model.eval()\n",
    "start_time = time.time()\n",
    "response, history = model.chat(tokenizer, \"你好\", history=[])\n",
    "print(f\"{response}\\n（{round(time.time() - start_time, 2)}s）\")\n",
    "start_time = time.time()\n",
    "response, history = model.chat(tokenizer, \"晚上睡不着应该怎么办\", history=history)\n",
    "print(f\"{response}\\n（{round(time.time() - start_time, 2)}s）\")"
   ]
  },
  {
   "cell_type": "code",
   "execution_count": 1,
   "id": "1eb8baef-b5f0-4c9a-bd95-c8cac38a8597",
   "metadata": {},
   "outputs": [
    {
     "name": "stdout",
     "output_type": "stream",
     "text": [
      "Loading checkpoint shards: 100%|██████████████████| 7/7 [00:06<00:00,  1.13it/s]\n",
      "Running on local URL:  http://0.0.0.0:7860\n",
      "\n",
      "Could not create share link. Missing file: /home/ivanzhu/tools/miniconda3/lib/python3.11/site-packages/gradio/frpc_linux_amd64_v0.2. \n",
      "\n",
      "Please check your internet connection. This can happen if your antivirus software blocks the download of this file. You can install manually by following these steps: \n",
      "\n",
      "1. Download this file: https://cdn-media.huggingface.co/frpc-gradio-0.2/frpc_linux_amd64\n",
      "2. Rename the downloaded file to: frpc_linux_amd64_v0.2\n",
      "3. Move the file to this location: /home/ivanzhu/tools/miniconda3/lib/python3.11/site-packages/gradio\n",
      "你好👋！我是人工智能助手 ChatGLM3-6B，很高兴见到你，欢迎问我任何问题。\n",
      "（2.77s）\n",
      "Traceback (most recent call last):\n",
      "  File \"/home/ivanzhu/tools/miniconda3/lib/python3.11/site-packages/gradio/queueing.py\", line 489, in call_prediction\n",
      "    output = await route_utils.call_process_api(\n",
      "             ^^^^^^^^^^^^^^^^^^^^^^^^^^^^^^^^^^^\n",
      "  File \"/home/ivanzhu/tools/miniconda3/lib/python3.11/site-packages/gradio/route_utils.py\", line 232, in call_process_api\n",
      "    output = await app.get_blocks().process_api(\n",
      "             ^^^^^^^^^^^^^^^^^^^^^^^^^^^^^^^^^^^\n",
      "  File \"/home/ivanzhu/tools/miniconda3/lib/python3.11/site-packages/gradio/blocks.py\", line 1542, in process_api\n",
      "    data = self.postprocess_data(fn_index, result[\"prediction\"], state)\n",
      "           ^^^^^^^^^^^^^^^^^^^^^^^^^^^^^^^^^^^^^^^^^^^^^^^^^^^^^^^^^^^^\n",
      "  File \"/home/ivanzhu/tools/miniconda3/lib/python3.11/site-packages/gradio/blocks.py\", line 1427, in postprocess_data\n",
      "    prediction_value = block.postprocess(prediction_value)\n",
      "                       ^^^^^^^^^^^^^^^^^^^^^^^^^^^^^^^^^^^\n",
      "  File \"/home/ivanzhu/tools/miniconda3/lib/python3.11/site-packages/gradio/components/chatbot.py\", line 204, in postprocess\n",
      "    raise TypeError(\n",
      "TypeError: Expected a list of lists or list of tuples. Received: {'role': 'user', 'content': '你好'}\n",
      "^C\n",
      "Keyboard interruption in main thread... closing server.\n"
     ]
    }
   ],
   "source": [
    "!python3 ./chat_bot.py"
   ]
  },
  {
   "cell_type": "code",
   "execution_count": null,
   "id": "e7189aa0-972b-4ca7-8e93-7cf1664b72d1",
   "metadata": {},
   "outputs": [],
   "source": []
  }
 ],
 "metadata": {
  "kernelspec": {
   "display_name": "Python 3 (ipykernel)",
   "language": "python",
   "name": "python3"
  },
  "language_info": {
   "codemirror_mode": {
    "name": "ipython",
    "version": 3
   },
   "file_extension": ".py",
   "mimetype": "text/x-python",
   "name": "python",
   "nbconvert_exporter": "python",
   "pygments_lexer": "ipython3",
   "version": "3.11.5"
  }
 },
 "nbformat": 4,
 "nbformat_minor": 5
}
